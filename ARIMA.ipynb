{
 "cells": [
  {
   "cell_type": "code",
   "execution_count": 1,
   "metadata": {
    "id": "sQgO0YXcu8Td"
   },
   "outputs": [],
   "source": [
    "import pandas as pd\n",
    "import numpy as np\n",
    "import matplotlib.pyplot as plt\n",
    "%matplotlib inline\n",
    "import seaborn as sns"
   ]
  },
  {
   "cell_type": "code",
   "execution_count": 2,
   "metadata": {
    "id": "p-g8a9H44kB1"
   },
   "outputs": [],
   "source": [
    "cities = pd.read_csv('GlobalLandTemperaturesByCity.csv', parse_dates=True, squeeze=True)"
   ]
  },
  {
   "cell_type": "code",
   "execution_count": 3,
   "metadata": {
    "colab": {
     "base_uri": "https://localhost:8080/",
     "height": 204
    },
    "id": "jX1qWapP41db",
    "outputId": "83305265-27af-426a-fb09-7bdb7a488ab5"
   },
   "outputs": [
    {
     "data": {
      "text/html": [
       "<div>\n",
       "<style scoped>\n",
       "    .dataframe tbody tr th:only-of-type {\n",
       "        vertical-align: middle;\n",
       "    }\n",
       "\n",
       "    .dataframe tbody tr th {\n",
       "        vertical-align: top;\n",
       "    }\n",
       "\n",
       "    .dataframe thead th {\n",
       "        text-align: right;\n",
       "    }\n",
       "</style>\n",
       "<table border=\"1\" class=\"dataframe\">\n",
       "  <thead>\n",
       "    <tr style=\"text-align: right;\">\n",
       "      <th></th>\n",
       "      <th>dt</th>\n",
       "      <th>AverageTemperature</th>\n",
       "      <th>AverageTemperatureUncertainty</th>\n",
       "      <th>City</th>\n",
       "      <th>Country</th>\n",
       "      <th>Latitude</th>\n",
       "      <th>Longitude</th>\n",
       "    </tr>\n",
       "  </thead>\n",
       "  <tbody>\n",
       "    <tr>\n",
       "      <th>0</th>\n",
       "      <td>1743-11-01</td>\n",
       "      <td>6.068</td>\n",
       "      <td>1.737</td>\n",
       "      <td>Århus</td>\n",
       "      <td>Denmark</td>\n",
       "      <td>57.05N</td>\n",
       "      <td>10.33E</td>\n",
       "    </tr>\n",
       "    <tr>\n",
       "      <th>1</th>\n",
       "      <td>1743-12-01</td>\n",
       "      <td>NaN</td>\n",
       "      <td>NaN</td>\n",
       "      <td>Århus</td>\n",
       "      <td>Denmark</td>\n",
       "      <td>57.05N</td>\n",
       "      <td>10.33E</td>\n",
       "    </tr>\n",
       "    <tr>\n",
       "      <th>2</th>\n",
       "      <td>1744-01-01</td>\n",
       "      <td>NaN</td>\n",
       "      <td>NaN</td>\n",
       "      <td>Århus</td>\n",
       "      <td>Denmark</td>\n",
       "      <td>57.05N</td>\n",
       "      <td>10.33E</td>\n",
       "    </tr>\n",
       "    <tr>\n",
       "      <th>3</th>\n",
       "      <td>1744-02-01</td>\n",
       "      <td>NaN</td>\n",
       "      <td>NaN</td>\n",
       "      <td>Århus</td>\n",
       "      <td>Denmark</td>\n",
       "      <td>57.05N</td>\n",
       "      <td>10.33E</td>\n",
       "    </tr>\n",
       "    <tr>\n",
       "      <th>4</th>\n",
       "      <td>1744-03-01</td>\n",
       "      <td>NaN</td>\n",
       "      <td>NaN</td>\n",
       "      <td>Århus</td>\n",
       "      <td>Denmark</td>\n",
       "      <td>57.05N</td>\n",
       "      <td>10.33E</td>\n",
       "    </tr>\n",
       "  </tbody>\n",
       "</table>\n",
       "</div>"
      ],
      "text/plain": [
       "           dt  AverageTemperature  AverageTemperatureUncertainty   City  \\\n",
       "0  1743-11-01               6.068                          1.737  Århus   \n",
       "1  1743-12-01                 NaN                            NaN  Århus   \n",
       "2  1744-01-01                 NaN                            NaN  Århus   \n",
       "3  1744-02-01                 NaN                            NaN  Århus   \n",
       "4  1744-03-01                 NaN                            NaN  Århus   \n",
       "\n",
       "   Country Latitude Longitude  \n",
       "0  Denmark   57.05N    10.33E  \n",
       "1  Denmark   57.05N    10.33E  \n",
       "2  Denmark   57.05N    10.33E  \n",
       "3  Denmark   57.05N    10.33E  \n",
       "4  Denmark   57.05N    10.33E  "
      ]
     },
     "execution_count": 3,
     "metadata": {},
     "output_type": "execute_result"
    }
   ],
   "source": [
    "cities.head()"
   ]
  },
  {
   "cell_type": "code",
   "execution_count": 4,
   "metadata": {
    "colab": {
     "base_uri": "https://localhost:8080/"
    },
    "id": "W6XY5nSa44J8",
    "outputId": "7d7cef7d-ea41-45ac-c5e0-ab255e2320b3"
   },
   "outputs": [
    {
     "data": {
      "text/plain": [
       "(8599212, 7)"
      ]
     },
     "execution_count": 4,
     "metadata": {},
     "output_type": "execute_result"
    }
   ],
   "source": [
    "cities.shape"
   ]
  },
  {
   "cell_type": "code",
   "execution_count": 5,
   "metadata": {
    "id": "bBXFa87W5Bis"
   },
   "outputs": [],
   "source": [
    "usa = cities[cities['Country'] == 'United States']"
   ]
  },
  {
   "cell_type": "code",
   "execution_count": 6,
   "metadata": {
    "colab": {
     "base_uri": "https://localhost:8080/"
    },
    "id": "TlafNwD95ecJ",
    "outputId": "0e7594f7-8c17-4f51-9e1c-c1f8934b3622"
   },
   "outputs": [
    {
     "data": {
      "text/plain": [
       "(687289, 7)"
      ]
     },
     "execution_count": 6,
     "metadata": {},
     "output_type": "execute_result"
    }
   ],
   "source": [
    "usa.shape"
   ]
  },
  {
   "cell_type": "code",
   "execution_count": 7,
   "metadata": {
    "id": "Yb6ELqCp5g_T"
   },
   "outputs": [],
   "source": [
    "data = ['Alexandria', 'Albuquerque', 'Abilene']"
   ]
  },
  {
   "cell_type": "code",
   "execution_count": 8,
   "metadata": {
    "id": "_vNzuBvi6XTz"
   },
   "outputs": [],
   "source": [
    "data2 = usa[usa['City'].isin(data)]"
   ]
  },
  {
   "cell_type": "code",
   "execution_count": 9,
   "metadata": {
    "colab": {
     "base_uri": "https://localhost:8080/",
     "height": 204
    },
    "id": "94SvHxRl6bWV",
    "outputId": "30ab72d0-157d-4387-aaea-542da4349dd9"
   },
   "outputs": [
    {
     "data": {
      "text/html": [
       "<div>\n",
       "<style scoped>\n",
       "    .dataframe tbody tr th:only-of-type {\n",
       "        vertical-align: middle;\n",
       "    }\n",
       "\n",
       "    .dataframe tbody tr th {\n",
       "        vertical-align: top;\n",
       "    }\n",
       "\n",
       "    .dataframe thead th {\n",
       "        text-align: right;\n",
       "    }\n",
       "</style>\n",
       "<table border=\"1\" class=\"dataframe\">\n",
       "  <thead>\n",
       "    <tr style=\"text-align: right;\">\n",
       "      <th></th>\n",
       "      <th>dt</th>\n",
       "      <th>AverageTemperature</th>\n",
       "      <th>AverageTemperatureUncertainty</th>\n",
       "      <th>City</th>\n",
       "      <th>Country</th>\n",
       "      <th>Latitude</th>\n",
       "      <th>Longitude</th>\n",
       "    </tr>\n",
       "  </thead>\n",
       "  <tbody>\n",
       "    <tr>\n",
       "      <th>47555</th>\n",
       "      <td>1820-01-01</td>\n",
       "      <td>2.101</td>\n",
       "      <td>3.217</td>\n",
       "      <td>Abilene</td>\n",
       "      <td>United States</td>\n",
       "      <td>32.95N</td>\n",
       "      <td>100.53W</td>\n",
       "    </tr>\n",
       "    <tr>\n",
       "      <th>47556</th>\n",
       "      <td>1820-02-01</td>\n",
       "      <td>6.926</td>\n",
       "      <td>2.853</td>\n",
       "      <td>Abilene</td>\n",
       "      <td>United States</td>\n",
       "      <td>32.95N</td>\n",
       "      <td>100.53W</td>\n",
       "    </tr>\n",
       "    <tr>\n",
       "      <th>47557</th>\n",
       "      <td>1820-03-01</td>\n",
       "      <td>10.767</td>\n",
       "      <td>2.395</td>\n",
       "      <td>Abilene</td>\n",
       "      <td>United States</td>\n",
       "      <td>32.95N</td>\n",
       "      <td>100.53W</td>\n",
       "    </tr>\n",
       "    <tr>\n",
       "      <th>47558</th>\n",
       "      <td>1820-04-01</td>\n",
       "      <td>17.989</td>\n",
       "      <td>2.202</td>\n",
       "      <td>Abilene</td>\n",
       "      <td>United States</td>\n",
       "      <td>32.95N</td>\n",
       "      <td>100.53W</td>\n",
       "    </tr>\n",
       "    <tr>\n",
       "      <th>47559</th>\n",
       "      <td>1820-05-01</td>\n",
       "      <td>21.809</td>\n",
       "      <td>2.036</td>\n",
       "      <td>Abilene</td>\n",
       "      <td>United States</td>\n",
       "      <td>32.95N</td>\n",
       "      <td>100.53W</td>\n",
       "    </tr>\n",
       "  </tbody>\n",
       "</table>\n",
       "</div>"
      ],
      "text/plain": [
       "               dt  AverageTemperature  AverageTemperatureUncertainty     City  \\\n",
       "47555  1820-01-01               2.101                          3.217  Abilene   \n",
       "47556  1820-02-01               6.926                          2.853  Abilene   \n",
       "47557  1820-03-01              10.767                          2.395  Abilene   \n",
       "47558  1820-04-01              17.989                          2.202  Abilene   \n",
       "47559  1820-05-01              21.809                          2.036  Abilene   \n",
       "\n",
       "             Country Latitude Longitude  \n",
       "47555  United States   32.95N   100.53W  \n",
       "47556  United States   32.95N   100.53W  \n",
       "47557  United States   32.95N   100.53W  \n",
       "47558  United States   32.95N   100.53W  \n",
       "47559  United States   32.95N   100.53W  "
      ]
     },
     "execution_count": 9,
     "metadata": {},
     "output_type": "execute_result"
    }
   ],
   "source": [
    "data2.head()"
   ]
  },
  {
   "cell_type": "code",
   "execution_count": 10,
   "metadata": {
    "id": "3dflJRWr6wNQ"
   },
   "outputs": [],
   "source": [
    "data2 = data2[['dt', 'AverageTemperature']]"
   ]
  },
  {
   "cell_type": "code",
   "execution_count": 11,
   "metadata": {
    "colab": {
     "base_uri": "https://localhost:8080/",
     "height": 204
    },
    "id": "RlcUwGFt75Qa",
    "outputId": "38346434-6081-4221-a783-166127f39d4e"
   },
   "outputs": [
    {
     "data": {
      "text/html": [
       "<div>\n",
       "<style scoped>\n",
       "    .dataframe tbody tr th:only-of-type {\n",
       "        vertical-align: middle;\n",
       "    }\n",
       "\n",
       "    .dataframe tbody tr th {\n",
       "        vertical-align: top;\n",
       "    }\n",
       "\n",
       "    .dataframe thead th {\n",
       "        text-align: right;\n",
       "    }\n",
       "</style>\n",
       "<table border=\"1\" class=\"dataframe\">\n",
       "  <thead>\n",
       "    <tr style=\"text-align: right;\">\n",
       "      <th></th>\n",
       "      <th>dt</th>\n",
       "      <th>AverageTemperature</th>\n",
       "    </tr>\n",
       "  </thead>\n",
       "  <tbody>\n",
       "    <tr>\n",
       "      <th>47555</th>\n",
       "      <td>1820-01-01</td>\n",
       "      <td>2.101</td>\n",
       "    </tr>\n",
       "    <tr>\n",
       "      <th>47556</th>\n",
       "      <td>1820-02-01</td>\n",
       "      <td>6.926</td>\n",
       "    </tr>\n",
       "    <tr>\n",
       "      <th>47557</th>\n",
       "      <td>1820-03-01</td>\n",
       "      <td>10.767</td>\n",
       "    </tr>\n",
       "    <tr>\n",
       "      <th>47558</th>\n",
       "      <td>1820-04-01</td>\n",
       "      <td>17.989</td>\n",
       "    </tr>\n",
       "    <tr>\n",
       "      <th>47559</th>\n",
       "      <td>1820-05-01</td>\n",
       "      <td>21.809</td>\n",
       "    </tr>\n",
       "  </tbody>\n",
       "</table>\n",
       "</div>"
      ],
      "text/plain": [
       "               dt  AverageTemperature\n",
       "47555  1820-01-01               2.101\n",
       "47556  1820-02-01               6.926\n",
       "47557  1820-03-01              10.767\n",
       "47558  1820-04-01              17.989\n",
       "47559  1820-05-01              21.809"
      ]
     },
     "execution_count": 11,
     "metadata": {},
     "output_type": "execute_result"
    }
   ],
   "source": [
    "data2.head()"
   ]
  },
  {
   "cell_type": "code",
   "execution_count": 12,
   "metadata": {
    "id": "mDKqV_dt8C0f"
   },
   "outputs": [],
   "source": [
    "data2.columns = ['Date', 'Temp']"
   ]
  },
  {
   "cell_type": "code",
   "execution_count": 13,
   "metadata": {
    "colab": {
     "base_uri": "https://localhost:8080/",
     "height": 204
    },
    "id": "G8c41HAo8agY",
    "outputId": "494f5654-3033-4aad-cfdf-37fe4277fcad"
   },
   "outputs": [
    {
     "data": {
      "text/html": [
       "<div>\n",
       "<style scoped>\n",
       "    .dataframe tbody tr th:only-of-type {\n",
       "        vertical-align: middle;\n",
       "    }\n",
       "\n",
       "    .dataframe tbody tr th {\n",
       "        vertical-align: top;\n",
       "    }\n",
       "\n",
       "    .dataframe thead th {\n",
       "        text-align: right;\n",
       "    }\n",
       "</style>\n",
       "<table border=\"1\" class=\"dataframe\">\n",
       "  <thead>\n",
       "    <tr style=\"text-align: right;\">\n",
       "      <th></th>\n",
       "      <th>Date</th>\n",
       "      <th>Temp</th>\n",
       "    </tr>\n",
       "  </thead>\n",
       "  <tbody>\n",
       "    <tr>\n",
       "      <th>47555</th>\n",
       "      <td>1820-01-01</td>\n",
       "      <td>2.101</td>\n",
       "    </tr>\n",
       "    <tr>\n",
       "      <th>47556</th>\n",
       "      <td>1820-02-01</td>\n",
       "      <td>6.926</td>\n",
       "    </tr>\n",
       "    <tr>\n",
       "      <th>47557</th>\n",
       "      <td>1820-03-01</td>\n",
       "      <td>10.767</td>\n",
       "    </tr>\n",
       "    <tr>\n",
       "      <th>47558</th>\n",
       "      <td>1820-04-01</td>\n",
       "      <td>17.989</td>\n",
       "    </tr>\n",
       "    <tr>\n",
       "      <th>47559</th>\n",
       "      <td>1820-05-01</td>\n",
       "      <td>21.809</td>\n",
       "    </tr>\n",
       "  </tbody>\n",
       "</table>\n",
       "</div>"
      ],
      "text/plain": [
       "             Date    Temp\n",
       "47555  1820-01-01   2.101\n",
       "47556  1820-02-01   6.926\n",
       "47557  1820-03-01  10.767\n",
       "47558  1820-04-01  17.989\n",
       "47559  1820-05-01  21.809"
      ]
     },
     "execution_count": 13,
     "metadata": {},
     "output_type": "execute_result"
    }
   ],
   "source": [
    "data2.head()"
   ]
  },
  {
   "cell_type": "code",
   "execution_count": 14,
   "metadata": {
    "id": "qMPOeyf2_XQ4"
   },
   "outputs": [],
   "source": [
    "data2['Date'] = pd.to_datetime(data2['Date'])"
   ]
  },
  {
   "cell_type": "code",
   "execution_count": 15,
   "metadata": {},
   "outputs": [
    {
     "data": {
      "text/html": [
       "<div>\n",
       "<style scoped>\n",
       "    .dataframe tbody tr th:only-of-type {\n",
       "        vertical-align: middle;\n",
       "    }\n",
       "\n",
       "    .dataframe tbody tr th {\n",
       "        vertical-align: top;\n",
       "    }\n",
       "\n",
       "    .dataframe thead th {\n",
       "        text-align: right;\n",
       "    }\n",
       "</style>\n",
       "<table border=\"1\" class=\"dataframe\">\n",
       "  <thead>\n",
       "    <tr style=\"text-align: right;\">\n",
       "      <th></th>\n",
       "      <th>Date</th>\n",
       "      <th>Temp</th>\n",
       "    </tr>\n",
       "  </thead>\n",
       "  <tbody>\n",
       "    <tr>\n",
       "      <th>47555</th>\n",
       "      <td>1820-01-01</td>\n",
       "      <td>2.101</td>\n",
       "    </tr>\n",
       "    <tr>\n",
       "      <th>47556</th>\n",
       "      <td>1820-02-01</td>\n",
       "      <td>6.926</td>\n",
       "    </tr>\n",
       "    <tr>\n",
       "      <th>47557</th>\n",
       "      <td>1820-03-01</td>\n",
       "      <td>10.767</td>\n",
       "    </tr>\n",
       "    <tr>\n",
       "      <th>47558</th>\n",
       "      <td>1820-04-01</td>\n",
       "      <td>17.989</td>\n",
       "    </tr>\n",
       "    <tr>\n",
       "      <th>47559</th>\n",
       "      <td>1820-05-01</td>\n",
       "      <td>21.809</td>\n",
       "    </tr>\n",
       "  </tbody>\n",
       "</table>\n",
       "</div>"
      ],
      "text/plain": [
       "            Date    Temp\n",
       "47555 1820-01-01   2.101\n",
       "47556 1820-02-01   6.926\n",
       "47557 1820-03-01  10.767\n",
       "47558 1820-04-01  17.989\n",
       "47559 1820-05-01  21.809"
      ]
     },
     "execution_count": 15,
     "metadata": {},
     "output_type": "execute_result"
    }
   ],
   "source": [
    "data2.head()"
   ]
  },
  {
   "cell_type": "code",
   "execution_count": 16,
   "metadata": {
    "colab": {
     "base_uri": "https://localhost:8080/"
    },
    "id": "5qRDtqRp_qoX",
    "outputId": "647bddba-debd-4c3e-daae-1d1617d415d6"
   },
   "outputs": [
    {
     "data": {
      "text/plain": [
       "Date      0\n",
       "Temp    150\n",
       "dtype: int64"
      ]
     },
     "execution_count": 16,
     "metadata": {},
     "output_type": "execute_result"
    }
   ],
   "source": [
    "data2.isna().sum()"
   ]
  },
  {
   "cell_type": "code",
   "execution_count": 17,
   "metadata": {
    "colab": {
     "base_uri": "https://localhost:8080/"
    },
    "id": "ThG6Etyp_sEz",
    "outputId": "6445954c-2dd0-48e9-a34a-264cc1aa7dd7"
   },
   "outputs": [
    {
     "data": {
      "text/plain": [
       "(7889, 2)"
      ]
     },
     "execution_count": 17,
     "metadata": {},
     "output_type": "execute_result"
    }
   ],
   "source": [
    "data2.shape"
   ]
  },
  {
   "cell_type": "code",
   "execution_count": 18,
   "metadata": {
    "id": "wtEGaM5pAQFl"
   },
   "outputs": [],
   "source": [
    "data2.set_index('Date', inplace=True)"
   ]
  },
  {
   "cell_type": "code",
   "execution_count": 19,
   "metadata": {
    "colab": {
     "base_uri": "https://localhost:8080/"
    },
    "id": "8brTVOuIATAa",
    "outputId": "92ddde59-4513-4358-dadb-4c0da3b9b500"
   },
   "outputs": [
    {
     "data": {
      "text/plain": [
       "(7889, 1)"
      ]
     },
     "execution_count": 19,
     "metadata": {},
     "output_type": "execute_result"
    }
   ],
   "source": [
    "data2.shape"
   ]
  },
  {
   "cell_type": "code",
   "execution_count": 20,
   "metadata": {
    "id": "l9DHiYoEAUbL"
   },
   "outputs": [],
   "source": [
    "data2 = data2.bfill()"
   ]
  },
  {
   "cell_type": "code",
   "execution_count": 21,
   "metadata": {
    "colab": {
     "base_uri": "https://localhost:8080/",
     "height": 235
    },
    "id": "B9X32TbWAdeo",
    "outputId": "74202222-ba88-4a5d-ccf4-a9a6c2a82894"
   },
   "outputs": [
    {
     "data": {
      "text/html": [
       "<div>\n",
       "<style scoped>\n",
       "    .dataframe tbody tr th:only-of-type {\n",
       "        vertical-align: middle;\n",
       "    }\n",
       "\n",
       "    .dataframe tbody tr th {\n",
       "        vertical-align: top;\n",
       "    }\n",
       "\n",
       "    .dataframe thead th {\n",
       "        text-align: right;\n",
       "    }\n",
       "</style>\n",
       "<table border=\"1\" class=\"dataframe\">\n",
       "  <thead>\n",
       "    <tr style=\"text-align: right;\">\n",
       "      <th></th>\n",
       "      <th>Temp</th>\n",
       "    </tr>\n",
       "    <tr>\n",
       "      <th>Date</th>\n",
       "      <th></th>\n",
       "    </tr>\n",
       "  </thead>\n",
       "  <tbody>\n",
       "    <tr>\n",
       "      <th>2013-05-01</th>\n",
       "      <td>17.134</td>\n",
       "    </tr>\n",
       "    <tr>\n",
       "      <th>2013-06-01</th>\n",
       "      <td>22.919</td>\n",
       "    </tr>\n",
       "    <tr>\n",
       "      <th>2013-07-01</th>\n",
       "      <td>25.658</td>\n",
       "    </tr>\n",
       "    <tr>\n",
       "      <th>2013-08-01</th>\n",
       "      <td>22.722</td>\n",
       "    </tr>\n",
       "    <tr>\n",
       "      <th>2013-09-01</th>\n",
       "      <td>19.643</td>\n",
       "    </tr>\n",
       "  </tbody>\n",
       "</table>\n",
       "</div>"
      ],
      "text/plain": [
       "              Temp\n",
       "Date              \n",
       "2013-05-01  17.134\n",
       "2013-06-01  22.919\n",
       "2013-07-01  25.658\n",
       "2013-08-01  22.722\n",
       "2013-09-01  19.643"
      ]
     },
     "execution_count": 21,
     "metadata": {},
     "output_type": "execute_result"
    }
   ],
   "source": [
    "data2.tail()"
   ]
  },
  {
   "cell_type": "code",
   "execution_count": 22,
   "metadata": {},
   "outputs": [
    {
     "data": {
      "text/html": [
       "<div>\n",
       "<style scoped>\n",
       "    .dataframe tbody tr th:only-of-type {\n",
       "        vertical-align: middle;\n",
       "    }\n",
       "\n",
       "    .dataframe tbody tr th {\n",
       "        vertical-align: top;\n",
       "    }\n",
       "\n",
       "    .dataframe thead th {\n",
       "        text-align: right;\n",
       "    }\n",
       "</style>\n",
       "<table border=\"1\" class=\"dataframe\">\n",
       "  <thead>\n",
       "    <tr style=\"text-align: right;\">\n",
       "      <th></th>\n",
       "      <th>Temp</th>\n",
       "    </tr>\n",
       "    <tr>\n",
       "      <th>Date</th>\n",
       "      <th></th>\n",
       "    </tr>\n",
       "  </thead>\n",
       "  <tbody>\n",
       "    <tr>\n",
       "      <th>1820-01-01</th>\n",
       "      <td>2.101</td>\n",
       "    </tr>\n",
       "    <tr>\n",
       "      <th>1820-02-01</th>\n",
       "      <td>6.926</td>\n",
       "    </tr>\n",
       "    <tr>\n",
       "      <th>1820-03-01</th>\n",
       "      <td>10.767</td>\n",
       "    </tr>\n",
       "    <tr>\n",
       "      <th>1820-04-01</th>\n",
       "      <td>17.989</td>\n",
       "    </tr>\n",
       "    <tr>\n",
       "      <th>1820-05-01</th>\n",
       "      <td>21.809</td>\n",
       "    </tr>\n",
       "  </tbody>\n",
       "</table>\n",
       "</div>"
      ],
      "text/plain": [
       "              Temp\n",
       "Date              \n",
       "1820-01-01   2.101\n",
       "1820-02-01   6.926\n",
       "1820-03-01  10.767\n",
       "1820-04-01  17.989\n",
       "1820-05-01  21.809"
      ]
     },
     "execution_count": 22,
     "metadata": {},
     "output_type": "execute_result"
    }
   ],
   "source": [
    "data2.head()"
   ]
  },
  {
   "cell_type": "code",
   "execution_count": 23,
   "metadata": {},
   "outputs": [
    {
     "data": {
      "text/plain": [
       "Temp    0\n",
       "dtype: int64"
      ]
     },
     "execution_count": 23,
     "metadata": {},
     "output_type": "execute_result"
    }
   ],
   "source": [
    "data2.isna().sum()"
   ]
  },
  {
   "cell_type": "code",
   "execution_count": 24,
   "metadata": {},
   "outputs": [],
   "source": [
    "data2 = data2['2003':'2013']"
   ]
  },
  {
   "cell_type": "code",
   "execution_count": null,
   "metadata": {},
   "outputs": [],
   "source": []
  },
  {
   "cell_type": "code",
   "execution_count": null,
   "metadata": {},
   "outputs": [],
   "source": []
  },
  {
   "cell_type": "code",
   "execution_count": null,
   "metadata": {},
   "outputs": [],
   "source": []
  },
  {
   "cell_type": "code",
   "execution_count": 25,
   "metadata": {
    "colab": {
     "base_uri": "https://localhost:8080/",
     "height": 296
    },
    "id": "pKzew3GqAe4B",
    "outputId": "a2e942ae-2736-449b-cb19-dabe800ee5fd"
   },
   "outputs": [
    {
     "data": {
      "text/plain": [
       "<AxesSubplot:xlabel='Date', ylabel='Temp'>"
      ]
     },
     "execution_count": 25,
     "metadata": {},
     "output_type": "execute_result"
    },
    {
     "data": {
      "image/png": "[encoded data removed]",
      "text/plain": [
       "<Figure size 432x288 with 1 Axes>"
      ]
     },
     "metadata": {
      "needs_background": "light"
     },
     "output_type": "display_data"
    }
   ],
   "source": [
    "sns.lineplot(x=data2.index, y=data2['Temp'])"
   ]
  },
  {
   "cell_type": "code",
   "execution_count": 26,
   "metadata": {
    "id": "Tt7OEpxzV7Ls"
   },
   "outputs": [],
   "source": [
    "from statsmodels.tsa.stattools import adfuller"
   ]
  },
  {
   "cell_type": "code",
   "execution_count": 27,
   "metadata": {
    "id": "YwHdTgtxaWyH"
   },
   "outputs": [],
   "source": [
    "test_result = adfuller(data2['Temp'])"
   ]
  },
  {
   "cell_type": "code",
   "execution_count": 28,
   "metadata": {
    "colab": {
     "base_uri": "https://localhost:8080/"
    },
    "id": "ec23bknpadsF",
    "outputId": "bc778222-5aff-4a63-f79c-50a9c7d06ee5"
   },
   "outputs": [
    {
     "data": {
      "text/plain": [
       "(-1.6309874258195747,\n",
       " 0.46697389736623907,\n",
       " 15,\n",
       " 371,\n",
       " {'1%': -3.4480996560263386,\n",
       "  '5%': -2.8693621113224137,\n",
       "  '10%': -2.570937038891028},\n",
       " 1715.2932559672986)"
      ]
     },
     "execution_count": 28,
     "metadata": {},
     "output_type": "execute_result"
    }
   ],
   "source": [
    "test_result"
   ]
  },
  {
   "cell_type": "code",
   "execution_count": 29,
   "metadata": {
    "id": "lIN7an7Eae43"
   },
   "outputs": [],
   "source": [
    "def adfuller_test(Temp):\n",
    "    result = adfuller(Temp)\n",
    "    labels = ['ADF Test Statistics', 'p-value', 'flags used', 'Number of observations used']\n",
    "    for value, label in zip(result, labels):\n",
    "        print(label+' : '+ str(value))\n",
    "    if result[1] < 0.05:\n",
    "        print('Data is STATIONARY and has no unit root')\n",
    "    else:\n",
    "        print('Data is NON-STATIONARY and has no unit root')"
   ]
  },
  {
   "cell_type": "code",
   "execution_count": 30,
   "metadata": {
    "colab": {
     "base_uri": "https://localhost:8080/"
    },
    "id": "B5hPOsTeb8id",
    "outputId": "1ffbb2e3-1cd5-40c0-81af-f9ea8d8c2d71"
   },
   "outputs": [
    {
     "name": "stdout",
     "output_type": "stream",
     "text": [
      "ADF Test Statistics : -1.6309874258195747\n",
      "p-value : 0.46697389736623907\n",
      "flags used : 15\n",
      "Number of observations used : 371\n",
      "Data is NON-STATIONARY and has no unit root\n"
     ]
    }
   ],
   "source": [
    "adfuller_test(data2['Temp'])"
   ]
  },
  {
   "cell_type": "code",
   "execution_count": 31,
   "metadata": {
    "id": "tgMZQ4F5cBx6"
   },
   "outputs": [],
   "source": [
    "df = data2.copy()"
   ]
  },
  {
   "cell_type": "code",
   "execution_count": 32,
   "metadata": {
    "colab": {
     "base_uri": "https://localhost:8080/",
     "height": 235
    },
    "id": "PqGFEA0Gcymc",
    "outputId": "5cd746ad-4ef0-4e1b-f2cc-f2cab763d06e"
   },
   "outputs": [
    {
     "data": {
      "text/html": [
       "<div>\n",
       "<style scoped>\n",
       "    .dataframe tbody tr th:only-of-type {\n",
       "        vertical-align: middle;\n",
       "    }\n",
       "\n",
       "    .dataframe tbody tr th {\n",
       "        vertical-align: top;\n",
       "    }\n",
       "\n",
       "    .dataframe thead th {\n",
       "        text-align: right;\n",
       "    }\n",
       "</style>\n",
       "<table border=\"1\" class=\"dataframe\">\n",
       "  <thead>\n",
       "    <tr style=\"text-align: right;\">\n",
       "      <th></th>\n",
       "      <th>Temp</th>\n",
       "    </tr>\n",
       "    <tr>\n",
       "      <th>Date</th>\n",
       "      <th></th>\n",
       "    </tr>\n",
       "  </thead>\n",
       "  <tbody>\n",
       "    <tr>\n",
       "      <th>2003-01-01</th>\n",
       "      <td>5.915</td>\n",
       "    </tr>\n",
       "    <tr>\n",
       "      <th>2003-02-01</th>\n",
       "      <td>6.792</td>\n",
       "    </tr>\n",
       "    <tr>\n",
       "      <th>2003-03-01</th>\n",
       "      <td>12.565</td>\n",
       "    </tr>\n",
       "    <tr>\n",
       "      <th>2003-04-01</th>\n",
       "      <td>18.641</td>\n",
       "    </tr>\n",
       "    <tr>\n",
       "      <th>2003-05-01</th>\n",
       "      <td>23.421</td>\n",
       "    </tr>\n",
       "  </tbody>\n",
       "</table>\n",
       "</div>"
      ],
      "text/plain": [
       "              Temp\n",
       "Date              \n",
       "2003-01-01   5.915\n",
       "2003-02-01   6.792\n",
       "2003-03-01  12.565\n",
       "2003-04-01  18.641\n",
       "2003-05-01  23.421"
      ]
     },
     "execution_count": 32,
     "metadata": {},
     "output_type": "execute_result"
    }
   ],
   "source": [
    "df.head()"
   ]
  },
  {
   "cell_type": "code",
   "execution_count": 33,
   "metadata": {
    "id": "3yT5ox0ocz0B"
   },
   "outputs": [],
   "source": [
    "df['first_temp_diff'] = df['Temp'] - df['Temp'].shift(12)"
   ]
  },
  {
   "cell_type": "code",
   "execution_count": 34,
   "metadata": {
    "colab": {
     "base_uri": "https://localhost:8080/",
     "height": 545
    },
    "id": "RVPfokATdDZ1",
    "outputId": "3486bc31-51e9-45eb-a55c-0ac1c9190a2e"
   },
   "outputs": [
    {
     "data": {
      "text/html": [
       "<div>\n",
       "<style scoped>\n",
       "    .dataframe tbody tr th:only-of-type {\n",
       "        vertical-align: middle;\n",
       "    }\n",
       "\n",
       "    .dataframe tbody tr th {\n",
       "        vertical-align: top;\n",
       "    }\n",
       "\n",
       "    .dataframe thead th {\n",
       "        text-align: right;\n",
       "    }\n",
       "</style>\n",
       "<table border=\"1\" class=\"dataframe\">\n",
       "  <thead>\n",
       "    <tr style=\"text-align: right;\">\n",
       "      <th></th>\n",
       "      <th>Temp</th>\n",
       "      <th>first_temp_diff</th>\n",
       "    </tr>\n",
       "    <tr>\n",
       "      <th>Date</th>\n",
       "      <th></th>\n",
       "      <th></th>\n",
       "    </tr>\n",
       "  </thead>\n",
       "  <tbody>\n",
       "    <tr>\n",
       "      <th>2003-01-01</th>\n",
       "      <td>5.915</td>\n",
       "      <td>NaN</td>\n",
       "    </tr>\n",
       "    <tr>\n",
       "      <th>2003-02-01</th>\n",
       "      <td>6.792</td>\n",
       "      <td>NaN</td>\n",
       "    </tr>\n",
       "    <tr>\n",
       "      <th>2003-03-01</th>\n",
       "      <td>12.565</td>\n",
       "      <td>NaN</td>\n",
       "    </tr>\n",
       "    <tr>\n",
       "      <th>2003-04-01</th>\n",
       "      <td>18.641</td>\n",
       "      <td>NaN</td>\n",
       "    </tr>\n",
       "    <tr>\n",
       "      <th>2003-05-01</th>\n",
       "      <td>23.421</td>\n",
       "      <td>NaN</td>\n",
       "    </tr>\n",
       "    <tr>\n",
       "      <th>2003-06-01</th>\n",
       "      <td>25.201</td>\n",
       "      <td>NaN</td>\n",
       "    </tr>\n",
       "    <tr>\n",
       "      <th>2003-07-01</th>\n",
       "      <td>29.061</td>\n",
       "      <td>NaN</td>\n",
       "    </tr>\n",
       "    <tr>\n",
       "      <th>2003-08-01</th>\n",
       "      <td>29.062</td>\n",
       "      <td>NaN</td>\n",
       "    </tr>\n",
       "    <tr>\n",
       "      <th>2003-09-01</th>\n",
       "      <td>22.886</td>\n",
       "      <td>NaN</td>\n",
       "    </tr>\n",
       "    <tr>\n",
       "      <th>2003-10-01</th>\n",
       "      <td>19.215</td>\n",
       "      <td>NaN</td>\n",
       "    </tr>\n",
       "    <tr>\n",
       "      <th>2003-11-01</th>\n",
       "      <td>12.487</td>\n",
       "      <td>NaN</td>\n",
       "    </tr>\n",
       "    <tr>\n",
       "      <th>2003-12-01</th>\n",
       "      <td>8.244</td>\n",
       "      <td>NaN</td>\n",
       "    </tr>\n",
       "    <tr>\n",
       "      <th>2004-01-01</th>\n",
       "      <td>7.277</td>\n",
       "      <td>1.362</td>\n",
       "    </tr>\n",
       "    <tr>\n",
       "      <th>2004-02-01</th>\n",
       "      <td>6.513</td>\n",
       "      <td>-0.279</td>\n",
       "    </tr>\n",
       "    <tr>\n",
       "      <th>2004-03-01</th>\n",
       "      <td>14.948</td>\n",
       "      <td>2.383</td>\n",
       "    </tr>\n",
       "  </tbody>\n",
       "</table>\n",
       "</div>"
      ],
      "text/plain": [
       "              Temp  first_temp_diff\n",
       "Date                               \n",
       "2003-01-01   5.915              NaN\n",
       "2003-02-01   6.792              NaN\n",
       "2003-03-01  12.565              NaN\n",
       "2003-04-01  18.641              NaN\n",
       "2003-05-01  23.421              NaN\n",
       "2003-06-01  25.201              NaN\n",
       "2003-07-01  29.061              NaN\n",
       "2003-08-01  29.062              NaN\n",
       "2003-09-01  22.886              NaN\n",
       "2003-10-01  19.215              NaN\n",
       "2003-11-01  12.487              NaN\n",
       "2003-12-01   8.244              NaN\n",
       "2004-01-01   7.277            1.362\n",
       "2004-02-01   6.513           -0.279\n",
       "2004-03-01  14.948            2.383"
      ]
     },
     "execution_count": 34,
     "metadata": {},
     "output_type": "execute_result"
    }
   ],
   "source": [
    "df.head(15)"
   ]
  },
  {
   "cell_type": "code",
   "execution_count": 35,
   "metadata": {
    "colab": {
     "base_uri": "https://localhost:8080/"
    },
    "id": "Af_orb1ddEcR",
    "outputId": "f5b4bd00-8e36-4a6b-9d31-119a99c0caee"
   },
   "outputs": [
    {
     "name": "stdout",
     "output_type": "stream",
     "text": [
      "ADF Test Statistics : -5.203540315567304\n",
      "p-value : 8.646934084981325e-06\n",
      "flags used : 12\n",
      "Number of observations used : 362\n",
      "Data is STATIONARY and has no unit root\n"
     ]
    }
   ],
   "source": [
    "adfuller_test(df['first_temp_diff'][12:]) # FIRST WAY to drop NANs"
   ]
  },
  {
   "cell_type": "code",
   "execution_count": 36,
   "metadata": {
    "colab": {
     "base_uri": "https://localhost:8080/"
    },
    "id": "P41fhRt7djV1",
    "outputId": "c3b93c6f-9b0d-4cda-9353-f4a512735c17"
   },
   "outputs": [
    {
     "name": "stdout",
     "output_type": "stream",
     "text": [
      "ADF Test Statistics : -5.203540315567304\n",
      "p-value : 8.646934084981325e-06\n",
      "flags used : 12\n",
      "Number of observations used : 362\n",
      "Data is STATIONARY and has no unit root\n"
     ]
    }
   ],
   "source": [
    "adfuller_test(df['first_temp_diff'].dropna()) # SECOND WAY to drop NANs"
   ]
  },
  {
   "cell_type": "code",
   "execution_count": 36,
   "metadata": {
    "colab": {
     "base_uri": "https://localhost:8080/",
     "height": 296
    },
    "id": "nCHH8pzyd7-G",
    "outputId": "e0323908-1f27-472b-c309-d96cef75f17a"
   },
   "outputs": [
    {
     "data": {
      "text/plain": [
       "<AxesSubplot:xlabel='Date', ylabel='first_temp_diff'>"
      ]
     },
     "execution_count": 36,
     "metadata": {},
     "output_type": "execute_result"
    },
    {
     "data": {
      "image/png": "[encoded data removed]",
      "text/plain": [
       "<Figure size 432x288 with 1 Axes>"
      ]
     },
     "metadata": {
      "needs_background": "light"
     },
     "output_type": "display_data"
    }
   ],
   "source": [
    "sns.lineplot(x=df.index, y=df['first_temp_diff'])"
   ]
  },
  {
   "cell_type": "code",
   "execution_count": 37,
   "metadata": {
    "colab": {
     "base_uri": "https://localhost:8080/",
     "height": 457
    },
    "id": "WoDrukVYeeua",
    "outputId": "756e51e3-b4ff-4ad7-d21b-d1d6f1982d97"
   },
   "outputs": [
    {
     "data": {
      "text/plain": [
       "<AxesSubplot:xlabel='Date'>"
      ]
     },
     "execution_count": 37,
     "metadata": {},
     "output_type": "execute_result"
    },
    {
     "data": {
      "image/png": "[encoded data removed]",
      "text/plain": [
       "<Figure size 1800x864 with 1 Axes>"
      ]
     },
     "metadata": {
      "needs_background": "light"
     },
     "output_type": "display_data"
    }
   ],
   "source": [
    "df['first_temp_diff'].plot(figsize=(25, 12))"
   ]
  },
  {
   "cell_type": "code",
   "execution_count": 37,
   "metadata": {
    "id": "THNTbN2Dew7J"
   },
   "outputs": [],
   "source": [
    "data2['month'] = data2.index.month"
   ]
  },
  {
   "cell_type": "code",
   "execution_count": 38,
   "metadata": {
    "id": "LmB-OkvQijUJ"
   },
   "outputs": [],
   "source": [
    "data2['year'] = data2.index.year"
   ]
  },
  {
   "cell_type": "code",
   "execution_count": 39,
   "metadata": {
    "colab": {
     "base_uri": "https://localhost:8080/",
     "height": 235
    },
    "id": "Cbo5fNsnimdV",
    "outputId": "e20c9409-52d0-4807-e621-475e19194ad5"
   },
   "outputs": [
    {
     "data": {
      "text/html": [
       "<div>\n",
       "<style scoped>\n",
       "    .dataframe tbody tr th:only-of-type {\n",
       "        vertical-align: middle;\n",
       "    }\n",
       "\n",
       "    .dataframe tbody tr th {\n",
       "        vertical-align: top;\n",
       "    }\n",
       "\n",
       "    .dataframe thead th {\n",
       "        text-align: right;\n",
       "    }\n",
       "</style>\n",
       "<table border=\"1\" class=\"dataframe\">\n",
       "  <thead>\n",
       "    <tr style=\"text-align: right;\">\n",
       "      <th></th>\n",
       "      <th>Temp</th>\n",
       "      <th>month</th>\n",
       "      <th>year</th>\n",
       "    </tr>\n",
       "    <tr>\n",
       "      <th>Date</th>\n",
       "      <th></th>\n",
       "      <th></th>\n",
       "      <th></th>\n",
       "    </tr>\n",
       "  </thead>\n",
       "  <tbody>\n",
       "    <tr>\n",
       "      <th>1820-01-01</th>\n",
       "      <td>2.101</td>\n",
       "      <td>1</td>\n",
       "      <td>1820</td>\n",
       "    </tr>\n",
       "    <tr>\n",
       "      <th>1820-02-01</th>\n",
       "      <td>6.926</td>\n",
       "      <td>2</td>\n",
       "      <td>1820</td>\n",
       "    </tr>\n",
       "    <tr>\n",
       "      <th>1820-03-01</th>\n",
       "      <td>10.767</td>\n",
       "      <td>3</td>\n",
       "      <td>1820</td>\n",
       "    </tr>\n",
       "    <tr>\n",
       "      <th>1820-04-01</th>\n",
       "      <td>17.989</td>\n",
       "      <td>4</td>\n",
       "      <td>1820</td>\n",
       "    </tr>\n",
       "    <tr>\n",
       "      <th>1820-05-01</th>\n",
       "      <td>21.809</td>\n",
       "      <td>5</td>\n",
       "      <td>1820</td>\n",
       "    </tr>\n",
       "  </tbody>\n",
       "</table>\n",
       "</div>"
      ],
      "text/plain": [
       "              Temp  month  year\n",
       "Date                           \n",
       "1820-01-01   2.101      1  1820\n",
       "1820-02-01   6.926      2  1820\n",
       "1820-03-01  10.767      3  1820\n",
       "1820-04-01  17.989      4  1820\n",
       "1820-05-01  21.809      5  1820"
      ]
     },
     "execution_count": 39,
     "metadata": {},
     "output_type": "execute_result"
    }
   ],
   "source": [
    "data2.head()"
   ]
  },
  {
   "cell_type": "code",
   "execution_count": 40,
   "metadata": {
    "id": "UB5kai8JioSu"
   },
   "outputs": [],
   "source": [
    "pivot = data2.pivot_table(values='Temp', index='month', columns='year')"
   ]
  },
  {
   "cell_type": "code",
   "execution_count": 41,
   "metadata": {
    "colab": {
     "base_uri": "https://localhost:8080/",
     "height": 501
    },
    "id": "nYDE0eb6jM3K",
    "outputId": "209c616a-bfbb-450c-9b6d-18dbfe9b4b2b"
   },
   "outputs": [
    {
     "data": {
      "text/html": [
       "<div>\n",
       "<style scoped>\n",
       "    .dataframe tbody tr th:only-of-type {\n",
       "        vertical-align: middle;\n",
       "    }\n",
       "\n",
       "    .dataframe tbody tr th {\n",
       "        vertical-align: top;\n",
       "    }\n",
       "\n",
       "    .dataframe thead th {\n",
       "        text-align: right;\n",
       "    }\n",
       "</style>\n",
       "<table border=\"1\" class=\"dataframe\">\n",
       "  <thead>\n",
       "    <tr style=\"text-align: right;\">\n",
       "      <th>year</th>\n",
       "      <th>1743</th>\n",
       "      <th>1744</th>\n",
       "      <th>1745</th>\n",
       "      <th>1746</th>\n",
       "      <th>1747</th>\n",
       "      <th>1748</th>\n",
       "      <th>1749</th>\n",
       "      <th>1750</th>\n",
       "      <th>1751</th>\n",
       "      <th>1752</th>\n",
       "      <th>...</th>\n",
       "      <th>2004</th>\n",
       "      <th>2005</th>\n",
       "      <th>2006</th>\n",
       "      <th>2007</th>\n",
       "      <th>2008</th>\n",
       "      <th>2009</th>\n",
       "      <th>2010</th>\n",
       "      <th>2011</th>\n",
       "      <th>2012</th>\n",
       "      <th>2013</th>\n",
       "    </tr>\n",
       "    <tr>\n",
       "      <th>month</th>\n",
       "      <th></th>\n",
       "      <th></th>\n",
       "      <th></th>\n",
       "      <th></th>\n",
       "      <th></th>\n",
       "      <th></th>\n",
       "      <th></th>\n",
       "      <th></th>\n",
       "      <th></th>\n",
       "      <th></th>\n",
       "      <th></th>\n",
       "      <th></th>\n",
       "      <th></th>\n",
       "      <th></th>\n",
       "      <th></th>\n",
       "      <th></th>\n",
       "      <th></th>\n",
       "      <th></th>\n",
       "      <th></th>\n",
       "      <th></th>\n",
       "      <th></th>\n",
       "    </tr>\n",
       "  </thead>\n",
       "  <tbody>\n",
       "    <tr>\n",
       "      <th>1</th>\n",
       "      <td>NaN</td>\n",
       "      <td>12.606</td>\n",
       "      <td>0.290</td>\n",
       "      <td>-1.08</td>\n",
       "      <td>-1.08</td>\n",
       "      <td>-1.08</td>\n",
       "      <td>-1.08</td>\n",
       "      <td>-1.080</td>\n",
       "      <td>-0.595</td>\n",
       "      <td>-4.318</td>\n",
       "      <td>...</td>\n",
       "      <td>1.845667</td>\n",
       "      <td>3.786667</td>\n",
       "      <td>5.441667</td>\n",
       "      <td>1.497667</td>\n",
       "      <td>1.979000</td>\n",
       "      <td>2.012667</td>\n",
       "      <td>1.346333</td>\n",
       "      <td>0.958000</td>\n",
       "      <td>4.072667</td>\n",
       "      <td>2.060333</td>\n",
       "    </tr>\n",
       "    <tr>\n",
       "      <th>2</th>\n",
       "      <td>NaN</td>\n",
       "      <td>12.606</td>\n",
       "      <td>0.542</td>\n",
       "      <td>-1.08</td>\n",
       "      <td>-1.08</td>\n",
       "      <td>-1.08</td>\n",
       "      <td>-1.08</td>\n",
       "      <td>0.668</td>\n",
       "      <td>0.812</td>\n",
       "      <td>6.402</td>\n",
       "      <td>...</td>\n",
       "      <td>2.787667</td>\n",
       "      <td>4.890000</td>\n",
       "      <td>4.543333</td>\n",
       "      <td>2.648333</td>\n",
       "      <td>4.904667</td>\n",
       "      <td>5.972667</td>\n",
       "      <td>1.775333</td>\n",
       "      <td>3.341000</td>\n",
       "      <td>5.251000</td>\n",
       "      <td>3.460000</td>\n",
       "    </tr>\n",
       "    <tr>\n",
       "      <th>3</th>\n",
       "      <td>NaN</td>\n",
       "      <td>12.606</td>\n",
       "      <td>4.289</td>\n",
       "      <td>-1.08</td>\n",
       "      <td>-1.08</td>\n",
       "      <td>-1.08</td>\n",
       "      <td>-1.08</td>\n",
       "      <td>5.836</td>\n",
       "      <td>6.314</td>\n",
       "      <td>6.402</td>\n",
       "      <td>...</td>\n",
       "      <td>10.725667</td>\n",
       "      <td>7.260667</td>\n",
       "      <td>9.316000</td>\n",
       "      <td>10.027667</td>\n",
       "      <td>8.753333</td>\n",
       "      <td>9.397667</td>\n",
       "      <td>8.570667</td>\n",
       "      <td>10.084667</td>\n",
       "      <td>11.659333</td>\n",
       "      <td>8.260667</td>\n",
       "    </tr>\n",
       "    <tr>\n",
       "      <th>4</th>\n",
       "      <td>NaN</td>\n",
       "      <td>12.606</td>\n",
       "      <td>10.864</td>\n",
       "      <td>-1.08</td>\n",
       "      <td>-1.08</td>\n",
       "      <td>-1.08</td>\n",
       "      <td>-1.08</td>\n",
       "      <td>11.472</td>\n",
       "      <td>10.699</td>\n",
       "      <td>10.181</td>\n",
       "      <td>...</td>\n",
       "      <td>13.349667</td>\n",
       "      <td>13.361667</td>\n",
       "      <td>15.631333</td>\n",
       "      <td>11.989667</td>\n",
       "      <td>13.505333</td>\n",
       "      <td>13.504000</td>\n",
       "      <td>14.126333</td>\n",
       "      <td>15.602667</td>\n",
       "      <td>15.453333</td>\n",
       "      <td>13.244333</td>\n",
       "    </tr>\n",
       "    <tr>\n",
       "      <th>5</th>\n",
       "      <td>NaN</td>\n",
       "      <td>17.740</td>\n",
       "      <td>-1.080</td>\n",
       "      <td>-1.08</td>\n",
       "      <td>-1.08</td>\n",
       "      <td>-1.08</td>\n",
       "      <td>-1.08</td>\n",
       "      <td>17.693</td>\n",
       "      <td>22.767</td>\n",
       "      <td>11.431</td>\n",
       "      <td>...</td>\n",
       "      <td>20.574667</td>\n",
       "      <td>17.604333</td>\n",
       "      <td>19.782333</td>\n",
       "      <td>18.217333</td>\n",
       "      <td>17.992333</td>\n",
       "      <td>19.051667</td>\n",
       "      <td>18.581667</td>\n",
       "      <td>19.054333</td>\n",
       "      <td>20.707000</td>\n",
       "      <td>18.656333</td>\n",
       "    </tr>\n",
       "    <tr>\n",
       "      <th>6</th>\n",
       "      <td>NaN</td>\n",
       "      <td>23.043</td>\n",
       "      <td>-1.080</td>\n",
       "      <td>-1.08</td>\n",
       "      <td>-1.08</td>\n",
       "      <td>-1.08</td>\n",
       "      <td>-1.08</td>\n",
       "      <td>21.195</td>\n",
       "      <td>22.767</td>\n",
       "      <td>11.431</td>\n",
       "      <td>...</td>\n",
       "      <td>22.806667</td>\n",
       "      <td>23.584667</td>\n",
       "      <td>24.174667</td>\n",
       "      <td>23.126333</td>\n",
       "      <td>24.738667</td>\n",
       "      <td>23.199333</td>\n",
       "      <td>25.189667</td>\n",
       "      <td>25.817667</td>\n",
       "      <td>24.583000</td>\n",
       "      <td>24.722667</td>\n",
       "    </tr>\n",
       "    <tr>\n",
       "      <th>7</th>\n",
       "      <td>NaN</td>\n",
       "      <td>24.148</td>\n",
       "      <td>-1.080</td>\n",
       "      <td>-1.08</td>\n",
       "      <td>-1.08</td>\n",
       "      <td>-1.08</td>\n",
       "      <td>-1.08</td>\n",
       "      <td>26.156</td>\n",
       "      <td>24.711</td>\n",
       "      <td>11.431</td>\n",
       "      <td>...</td>\n",
       "      <td>24.849667</td>\n",
       "      <td>26.008667</td>\n",
       "      <td>26.362667</td>\n",
       "      <td>24.722000</td>\n",
       "      <td>25.146667</td>\n",
       "      <td>25.280667</td>\n",
       "      <td>25.636000</td>\n",
       "      <td>27.791333</td>\n",
       "      <td>26.588667</td>\n",
       "      <td>25.343333</td>\n",
       "    </tr>\n",
       "    <tr>\n",
       "      <th>8</th>\n",
       "      <td>NaN</td>\n",
       "      <td>17.193</td>\n",
       "      <td>-1.080</td>\n",
       "      <td>-1.08</td>\n",
       "      <td>-1.08</td>\n",
       "      <td>-1.08</td>\n",
       "      <td>-1.08</td>\n",
       "      <td>24.176</td>\n",
       "      <td>23.627</td>\n",
       "      <td>11.431</td>\n",
       "      <td>...</td>\n",
       "      <td>23.378333</td>\n",
       "      <td>24.552667</td>\n",
       "      <td>25.144000</td>\n",
       "      <td>25.311000</td>\n",
       "      <td>23.915333</td>\n",
       "      <td>25.223333</td>\n",
       "      <td>25.430000</td>\n",
       "      <td>26.820667</td>\n",
       "      <td>25.617333</td>\n",
       "      <td>24.394000</td>\n",
       "    </tr>\n",
       "    <tr>\n",
       "      <th>9</th>\n",
       "      <td>NaN</td>\n",
       "      <td>17.193</td>\n",
       "      <td>-1.080</td>\n",
       "      <td>-1.08</td>\n",
       "      <td>-1.08</td>\n",
       "      <td>-1.08</td>\n",
       "      <td>-1.08</td>\n",
       "      <td>19.360</td>\n",
       "      <td>17.887</td>\n",
       "      <td>11.431</td>\n",
       "      <td>...</td>\n",
       "      <td>20.435667</td>\n",
       "      <td>22.292000</td>\n",
       "      <td>18.674000</td>\n",
       "      <td>21.647333</td>\n",
       "      <td>20.108667</td>\n",
       "      <td>19.709667</td>\n",
       "      <td>22.062000</td>\n",
       "      <td>21.183000</td>\n",
       "      <td>20.960667</td>\n",
       "      <td>21.547000</td>\n",
       "    </tr>\n",
       "    <tr>\n",
       "      <th>10</th>\n",
       "      <td>NaN</td>\n",
       "      <td>10.985</td>\n",
       "      <td>-1.080</td>\n",
       "      <td>-1.08</td>\n",
       "      <td>-1.08</td>\n",
       "      <td>-1.08</td>\n",
       "      <td>-1.08</td>\n",
       "      <td>10.940</td>\n",
       "      <td>-4.318</td>\n",
       "      <td>11.431</td>\n",
       "      <td>...</td>\n",
       "      <td>14.192667</td>\n",
       "      <td>14.645000</td>\n",
       "      <td>13.647333</td>\n",
       "      <td>16.279000</td>\n",
       "      <td>13.868000</td>\n",
       "      <td>12.887333</td>\n",
       "      <td>15.138667</td>\n",
       "      <td>14.299333</td>\n",
       "      <td>14.363333</td>\n",
       "      <td>NaN</td>\n",
       "    </tr>\n",
       "    <tr>\n",
       "      <th>11</th>\n",
       "      <td>5.339</td>\n",
       "      <td>5.371</td>\n",
       "      <td>-1.080</td>\n",
       "      <td>-1.08</td>\n",
       "      <td>-1.08</td>\n",
       "      <td>-1.08</td>\n",
       "      <td>-1.08</td>\n",
       "      <td>1.149</td>\n",
       "      <td>-4.318</td>\n",
       "      <td>7.824</td>\n",
       "      <td>...</td>\n",
       "      <td>8.212333</td>\n",
       "      <td>9.191333</td>\n",
       "      <td>9.354333</td>\n",
       "      <td>8.776333</td>\n",
       "      <td>8.335000</td>\n",
       "      <td>9.362000</td>\n",
       "      <td>7.887000</td>\n",
       "      <td>8.774667</td>\n",
       "      <td>8.554333</td>\n",
       "      <td>NaN</td>\n",
       "    </tr>\n",
       "    <tr>\n",
       "      <th>12</th>\n",
       "      <td>12.606</td>\n",
       "      <td>-0.040</td>\n",
       "      <td>-1.080</td>\n",
       "      <td>-1.08</td>\n",
       "      <td>-1.08</td>\n",
       "      <td>-1.08</td>\n",
       "      <td>-1.08</td>\n",
       "      <td>1.149</td>\n",
       "      <td>-4.318</td>\n",
       "      <td>1.189</td>\n",
       "      <td>...</td>\n",
       "      <td>3.154000</td>\n",
       "      <td>2.553000</td>\n",
       "      <td>3.720333</td>\n",
       "      <td>3.162333</td>\n",
       "      <td>3.765667</td>\n",
       "      <td>1.190333</td>\n",
       "      <td>3.451000</td>\n",
       "      <td>2.499667</td>\n",
       "      <td>4.431667</td>\n",
       "      <td>NaN</td>\n",
       "    </tr>\n",
       "  </tbody>\n",
       "</table>\n",
       "<p>12 rows × 271 columns</p>\n",
       "</div>"
      ],
      "text/plain": [
       "year     1743    1744    1745  1746  1747  1748  1749    1750    1751    1752  \\\n",
       "month                                                                           \n",
       "1         NaN  12.606   0.290 -1.08 -1.08 -1.08 -1.08  -1.080  -0.595  -4.318   \n",
       "2         NaN  12.606   0.542 -1.08 -1.08 -1.08 -1.08   0.668   0.812   6.402   \n",
       "3         NaN  12.606   4.289 -1.08 -1.08 -1.08 -1.08   5.836   6.314   6.402   \n",
       "4         NaN  12.606  10.864 -1.08 -1.08 -1.08 -1.08  11.472  10.699  10.181   \n",
       "5         NaN  17.740  -1.080 -1.08 -1.08 -1.08 -1.08  17.693  22.767  11.431   \n",
       "6         NaN  23.043  -1.080 -1.08 -1.08 -1.08 -1.08  21.195  22.767  11.431   \n",
       "7         NaN  24.148  -1.080 -1.08 -1.08 -1.08 -1.08  26.156  24.711  11.431   \n",
       "8         NaN  17.193  -1.080 -1.08 -1.08 -1.08 -1.08  24.176  23.627  11.431   \n",
       "9         NaN  17.193  -1.080 -1.08 -1.08 -1.08 -1.08  19.360  17.887  11.431   \n",
       "10        NaN  10.985  -1.080 -1.08 -1.08 -1.08 -1.08  10.940  -4.318  11.431   \n",
       "11      5.339   5.371  -1.080 -1.08 -1.08 -1.08 -1.08   1.149  -4.318   7.824   \n",
       "12     12.606  -0.040  -1.080 -1.08 -1.08 -1.08 -1.08   1.149  -4.318   1.189   \n",
       "\n",
       "year   ...       2004       2005       2006       2007       2008       2009  \\\n",
       "month  ...                                                                     \n",
       "1      ...   1.845667   3.786667   5.441667   1.497667   1.979000   2.012667   \n",
       "2      ...   2.787667   4.890000   4.543333   2.648333   4.904667   5.972667   \n",
       "3      ...  10.725667   7.260667   9.316000  10.027667   8.753333   9.397667   \n",
       "4      ...  13.349667  13.361667  15.631333  11.989667  13.505333  13.504000   \n",
       "5      ...  20.574667  17.604333  19.782333  18.217333  17.992333  19.051667   \n",
       "6      ...  22.806667  23.584667  24.174667  23.126333  24.738667  23.199333   \n",
       "7      ...  24.849667  26.008667  26.362667  24.722000  25.146667  25.280667   \n",
       "8      ...  23.378333  24.552667  25.144000  25.311000  23.915333  25.223333   \n",
       "9      ...  20.435667  22.292000  18.674000  21.647333  20.108667  19.709667   \n",
       "10     ...  14.192667  14.645000  13.647333  16.279000  13.868000  12.887333   \n",
       "11     ...   8.212333   9.191333   9.354333   8.776333   8.335000   9.362000   \n",
       "12     ...   3.154000   2.553000   3.720333   3.162333   3.765667   1.190333   \n",
       "\n",
       "year        2010       2011       2012       2013  \n",
       "month                                              \n",
       "1       1.346333   0.958000   4.072667   2.060333  \n",
       "2       1.775333   3.341000   5.251000   3.460000  \n",
       "3       8.570667  10.084667  11.659333   8.260667  \n",
       "4      14.126333  15.602667  15.453333  13.244333  \n",
       "5      18.581667  19.054333  20.707000  18.656333  \n",
       "6      25.189667  25.817667  24.583000  24.722667  \n",
       "7      25.636000  27.791333  26.588667  25.343333  \n",
       "8      25.430000  26.820667  25.617333  24.394000  \n",
       "9      22.062000  21.183000  20.960667  21.547000  \n",
       "10     15.138667  14.299333  14.363333        NaN  \n",
       "11      7.887000   8.774667   8.554333        NaN  \n",
       "12      3.451000   2.499667   4.431667        NaN  \n",
       "\n",
       "[12 rows x 271 columns]"
      ]
     },
     "execution_count": 41,
     "metadata": {},
     "output_type": "execute_result"
    }
   ],
   "source": [
    "pivot"
   ]
  },
  {
   "cell_type": "code",
   "execution_count": 45,
   "metadata": {
    "colab": {
     "base_uri": "https://localhost:8080/",
     "height": 351
    },
    "id": "5LXQohDljPmV",
    "outputId": "689d078f-8f6c-461e-e76b-5adfbd38560f"
   },
   "outputs": [
    {
     "data": {
      "text/plain": [
       "Text(0, 0.5, 'Temperature')"
      ]
     },
     "execution_count": 45,
     "metadata": {},
     "output_type": "execute_result"
    },
    {
     "data": {
      "image/png": "[encoded data removed]",
      "text/plain": [
       "<Figure size 1152x360 with 1 Axes>"
      ]
     },
     "metadata": {
      "needs_background": "light"
     },
     "output_type": "display_data"
    }
   ],
   "source": [
    "pivot.plot(figsize=(16,5))\n",
    "plt.legend().remove()\n",
    "plt.xlabel('Month')\n",
    "plt.ylabel('Temperature')"
   ]
  },
  {
   "cell_type": "code",
   "execution_count": 38,
   "metadata": {
    "id": "nfD4q-EKjlnn"
   },
   "outputs": [
    {
     "ename": "NameError",
     "evalue": "name 'pivot' is not defined",
     "output_type": "error",
     "traceback": [
      "\u001b[1;31m---------------------------------------------------------------------------\u001b[0m",
      "\u001b[1;31mNameError\u001b[0m                                 Traceback (most recent call last)",
      "\u001b[1;32m<ipython-input-38-3be4d50a8005>\u001b[0m in \u001b[0;36m<module>\u001b[1;34m\u001b[0m\n\u001b[1;32m----> 1\u001b[1;33m \u001b[0mmonthly_seasonality\u001b[0m \u001b[1;33m=\u001b[0m \u001b[0mpivot\u001b[0m\u001b[1;33m.\u001b[0m\u001b[0mmean\u001b[0m\u001b[1;33m(\u001b[0m\u001b[0maxis\u001b[0m\u001b[1;33m=\u001b[0m\u001b[1;36m1\u001b[0m\u001b[1;33m)\u001b[0m\u001b[1;33m\u001b[0m\u001b[1;33m\u001b[0m\u001b[0m\n\u001b[0m",
      "\u001b[1;31mNameError\u001b[0m: name 'pivot' is not defined"
     ]
    }
   ],
   "source": [
    "monthly_seasonality = pivot.mean(axis=1)"
   ]
  },
  {
   "cell_type": "code",
   "execution_count": 39,
   "metadata": {
    "colab": {
     "base_uri": "https://localhost:8080/",
     "height": 351
    },
    "id": "2R4Sut85kDVu",
    "outputId": "fc632172-1451-44b0-fee9-386601be9a06"
   },
   "outputs": [
    {
     "ename": "NameError",
     "evalue": "name 'monthly_seasonality' is not defined",
     "output_type": "error",
     "traceback": [
      "\u001b[1;31m---------------------------------------------------------------------------\u001b[0m",
      "\u001b[1;31mNameError\u001b[0m                                 Traceback (most recent call last)",
      "\u001b[1;32m<ipython-input-39-6d95d4a67635>\u001b[0m in \u001b[0;36m<module>\u001b[1;34m\u001b[0m\n\u001b[1;32m----> 1\u001b[1;33m \u001b[0mmonthly_seasonality\u001b[0m\u001b[1;33m.\u001b[0m\u001b[0mplot\u001b[0m\u001b[1;33m(\u001b[0m\u001b[0mfigsize\u001b[0m\u001b[1;33m=\u001b[0m\u001b[1;33m(\u001b[0m\u001b[1;36m16\u001b[0m\u001b[1;33m,\u001b[0m\u001b[1;36m5\u001b[0m\u001b[1;33m)\u001b[0m\u001b[1;33m)\u001b[0m\u001b[1;33m\u001b[0m\u001b[1;33m\u001b[0m\u001b[0m\n\u001b[0m",
      "\u001b[1;31mNameError\u001b[0m: name 'monthly_seasonality' is not defined"
     ]
    }
   ],
   "source": [
    "monthly_seasonality.plot(figsize=(16,5))"
   ]
  },
  {
   "cell_type": "code",
   "execution_count": 40,
   "metadata": {
    "id": "ItxrAqLykKpG"
   },
   "outputs": [],
   "source": [
    "df = df[['first_temp_diff']].bfill()"
   ]
  },
  {
   "cell_type": "code",
   "execution_count": null,
   "metadata": {
    "colab": {
     "base_uri": "https://localhost:8080/"
    },
    "id": "VTRezJTIkn95",
    "outputId": "d19852ad-6786-44b1-cb55-f139ab0f09d7"
   },
   "outputs": [],
   "source": []
  },
  {
   "cell_type": "code",
   "execution_count": 41,
   "metadata": {
    "colab": {
     "base_uri": "https://localhost:8080/",
     "height": 235
    },
    "id": "x5DivABZlZMU",
    "outputId": "2883e9a7-6ecb-4a12-bb6e-a062d6b21106"
   },
   "outputs": [
    {
     "data": {
      "text/html": [
       "<div>\n",
       "<style scoped>\n",
       "    .dataframe tbody tr th:only-of-type {\n",
       "        vertical-align: middle;\n",
       "    }\n",
       "\n",
       "    .dataframe tbody tr th {\n",
       "        vertical-align: top;\n",
       "    }\n",
       "\n",
       "    .dataframe thead th {\n",
       "        text-align: right;\n",
       "    }\n",
       "</style>\n",
       "<table border=\"1\" class=\"dataframe\">\n",
       "  <thead>\n",
       "    <tr style=\"text-align: right;\">\n",
       "      <th></th>\n",
       "      <th>first_temp_diff</th>\n",
       "    </tr>\n",
       "    <tr>\n",
       "      <th>Date</th>\n",
       "      <th></th>\n",
       "    </tr>\n",
       "  </thead>\n",
       "  <tbody>\n",
       "    <tr>\n",
       "      <th>2003-01-01</th>\n",
       "      <td>1.362</td>\n",
       "    </tr>\n",
       "    <tr>\n",
       "      <th>2003-02-01</th>\n",
       "      <td>1.362</td>\n",
       "    </tr>\n",
       "    <tr>\n",
       "      <th>2003-03-01</th>\n",
       "      <td>1.362</td>\n",
       "    </tr>\n",
       "    <tr>\n",
       "      <th>2003-04-01</th>\n",
       "      <td>1.362</td>\n",
       "    </tr>\n",
       "    <tr>\n",
       "      <th>2003-05-01</th>\n",
       "      <td>1.362</td>\n",
       "    </tr>\n",
       "  </tbody>\n",
       "</table>\n",
       "</div>"
      ],
      "text/plain": [
       "            first_temp_diff\n",
       "Date                       \n",
       "2003-01-01            1.362\n",
       "2003-02-01            1.362\n",
       "2003-03-01            1.362\n",
       "2003-04-01            1.362\n",
       "2003-05-01            1.362"
      ]
     },
     "execution_count": 41,
     "metadata": {},
     "output_type": "execute_result"
    }
   ],
   "source": [
    "df.head()"
   ]
  },
  {
   "cell_type": "code",
   "execution_count": 42,
   "metadata": {
    "colab": {
     "base_uri": "https://localhost:8080/"
    },
    "id": "50lCIVevlkBp",
    "outputId": "6470f6da-fdd6-404b-fe2c-8ec5fa33bb14"
   },
   "outputs": [
    {
     "data": {
      "text/plain": [
       "Date\n",
       "2003-01-01       NaN\n",
       "2003-02-01       NaN\n",
       "2003-03-01       NaN\n",
       "2003-04-01       NaN\n",
       "2003-05-01    1.3620\n",
       "               ...  \n",
       "2013-05-01   -2.7764\n",
       "2013-06-01   -2.5192\n",
       "2013-07-01   -2.0214\n",
       "2013-08-01   -0.9678\n",
       "2013-09-01   -1.0870\n",
       "Name: first_temp_diff, Length: 387, dtype: float64"
      ]
     },
     "execution_count": 42,
     "metadata": {},
     "output_type": "execute_result"
    }
   ],
   "source": [
    "df['first_temp_diff'].rolling(window=5).mean()"
   ]
  },
  {
   "cell_type": "code",
   "execution_count": 43,
   "metadata": {
    "id": "el7b5Vs5l0-E"
   },
   "outputs": [],
   "source": [
    "value = pd.DataFrame(data2['Temp'])"
   ]
  },
  {
   "cell_type": "code",
   "execution_count": 44,
   "metadata": {
    "id": "G7Qlo_pQmMYy"
   },
   "outputs": [],
   "source": [
    "temp_df = pd.concat([value, data2['Temp'].rolling(window=5).mean()], axis=1)"
   ]
  },
  {
   "cell_type": "code",
   "execution_count": 45,
   "metadata": {
    "id": "RnNPlRJBmkB6"
   },
   "outputs": [],
   "source": [
    "temp_df.columns = ['actual_temp', 'predicted_temp']"
   ]
  },
  {
   "cell_type": "code",
   "execution_count": 46,
   "metadata": {
    "colab": {
     "base_uri": "https://localhost:8080/",
     "height": 235
    },
    "id": "ot0-f3UymrG_",
    "outputId": "f3ea8a49-7401-49cb-d137-6656a39d4e65"
   },
   "outputs": [
    {
     "data": {
      "text/html": [
       "<div>\n",
       "<style scoped>\n",
       "    .dataframe tbody tr th:only-of-type {\n",
       "        vertical-align: middle;\n",
       "    }\n",
       "\n",
       "    .dataframe tbody tr th {\n",
       "        vertical-align: top;\n",
       "    }\n",
       "\n",
       "    .dataframe thead th {\n",
       "        text-align: right;\n",
       "    }\n",
       "</style>\n",
       "<table border=\"1\" class=\"dataframe\">\n",
       "  <thead>\n",
       "    <tr style=\"text-align: right;\">\n",
       "      <th></th>\n",
       "      <th>actual_temp</th>\n",
       "      <th>predicted_temp</th>\n",
       "    </tr>\n",
       "    <tr>\n",
       "      <th>Date</th>\n",
       "      <th></th>\n",
       "      <th></th>\n",
       "    </tr>\n",
       "  </thead>\n",
       "  <tbody>\n",
       "    <tr>\n",
       "      <th>2003-01-01</th>\n",
       "      <td>5.915</td>\n",
       "      <td>NaN</td>\n",
       "    </tr>\n",
       "    <tr>\n",
       "      <th>2003-02-01</th>\n",
       "      <td>6.792</td>\n",
       "      <td>NaN</td>\n",
       "    </tr>\n",
       "    <tr>\n",
       "      <th>2003-03-01</th>\n",
       "      <td>12.565</td>\n",
       "      <td>NaN</td>\n",
       "    </tr>\n",
       "    <tr>\n",
       "      <th>2003-04-01</th>\n",
       "      <td>18.641</td>\n",
       "      <td>NaN</td>\n",
       "    </tr>\n",
       "    <tr>\n",
       "      <th>2003-05-01</th>\n",
       "      <td>23.421</td>\n",
       "      <td>13.4668</td>\n",
       "    </tr>\n",
       "  </tbody>\n",
       "</table>\n",
       "</div>"
      ],
      "text/plain": [
       "            actual_temp  predicted_temp\n",
       "Date                                   \n",
       "2003-01-01        5.915             NaN\n",
       "2003-02-01        6.792             NaN\n",
       "2003-03-01       12.565             NaN\n",
       "2003-04-01       18.641             NaN\n",
       "2003-05-01       23.421         13.4668"
      ]
     },
     "execution_count": 46,
     "metadata": {},
     "output_type": "execute_result"
    }
   ],
   "source": [
    "temp_df.head()"
   ]
  },
  {
   "cell_type": "code",
   "execution_count": 47,
   "metadata": {
    "id": "5oRH192TmtYx"
   },
   "outputs": [],
   "source": [
    "from sklearn.metrics import mean_squared_error"
   ]
  },
  {
   "cell_type": "code",
   "execution_count": 48,
   "metadata": {
    "id": "nKGqBaSfnCHn"
   },
   "outputs": [],
   "source": [
    "rmse = np.sqrt(mean_squared_error(temp_df['predicted_temp'][4:], temp_df['actual_temp'][4:]))"
   ]
  },
  {
   "cell_type": "code",
   "execution_count": 49,
   "metadata": {
    "colab": {
     "base_uri": "https://localhost:8080/"
    },
    "id": "IFXabZk3nYf2",
    "outputId": "f15f6a5c-3406-46b3-f6b9-74eac747a737"
   },
   "outputs": [
    {
     "data": {
      "text/plain": [
       "7.736356172992859"
      ]
     },
     "execution_count": 49,
     "metadata": {},
     "output_type": "execute_result"
    }
   ],
   "source": [
    "rmse"
   ]
  },
  {
   "cell_type": "code",
   "execution_count": 58,
   "metadata": {
    "id": "HJmQL3J9nePM"
   },
   "outputs": [],
   "source": [
    "#ARIMA"
   ]
  },
  {
   "cell_type": "code",
   "execution_count": 50,
   "metadata": {
    "id": "VkSpOFs1pVG1"
   },
   "outputs": [],
   "source": [
    "from statsmodels.tsa.arima_model import ARIMA"
   ]
  },
  {
   "cell_type": "code",
   "execution_count": 51,
   "metadata": {
    "id": "dklns6tvpcE2"
   },
   "outputs": [],
   "source": [
    "from statsmodels.graphics.tsaplots import plot_acf, plot_pacf"
   ]
  },
  {
   "cell_type": "code",
   "execution_count": 52,
   "metadata": {
    "colab": {
     "base_uri": "https://localhost:8080/",
     "height": 235
    },
    "id": "V5quLD-gp6ko",
    "outputId": "0894b1d5-ce43-471f-d662-4212f5fe22ea",
    "scrolled": true
   },
   "outputs": [
    {
     "data": {
      "text/html": [
       "<div>\n",
       "<style scoped>\n",
       "    .dataframe tbody tr th:only-of-type {\n",
       "        vertical-align: middle;\n",
       "    }\n",
       "\n",
       "    .dataframe tbody tr th {\n",
       "        vertical-align: top;\n",
       "    }\n",
       "\n",
       "    .dataframe thead th {\n",
       "        text-align: right;\n",
       "    }\n",
       "</style>\n",
       "<table border=\"1\" class=\"dataframe\">\n",
       "  <thead>\n",
       "    <tr style=\"text-align: right;\">\n",
       "      <th></th>\n",
       "      <th>first_temp_diff</th>\n",
       "    </tr>\n",
       "    <tr>\n",
       "      <th>Date</th>\n",
       "      <th></th>\n",
       "    </tr>\n",
       "  </thead>\n",
       "  <tbody>\n",
       "    <tr>\n",
       "      <th>2003-01-01</th>\n",
       "      <td>1.362</td>\n",
       "    </tr>\n",
       "    <tr>\n",
       "      <th>2003-02-01</th>\n",
       "      <td>1.362</td>\n",
       "    </tr>\n",
       "    <tr>\n",
       "      <th>2003-03-01</th>\n",
       "      <td>1.362</td>\n",
       "    </tr>\n",
       "    <tr>\n",
       "      <th>2003-04-01</th>\n",
       "      <td>1.362</td>\n",
       "    </tr>\n",
       "    <tr>\n",
       "      <th>2003-05-01</th>\n",
       "      <td>1.362</td>\n",
       "    </tr>\n",
       "  </tbody>\n",
       "</table>\n",
       "</div>"
      ],
      "text/plain": [
       "            first_temp_diff\n",
       "Date                       \n",
       "2003-01-01            1.362\n",
       "2003-02-01            1.362\n",
       "2003-03-01            1.362\n",
       "2003-04-01            1.362\n",
       "2003-05-01            1.362"
      ]
     },
     "execution_count": 52,
     "metadata": {},
     "output_type": "execute_result"
    }
   ],
   "source": [
    "df.head()"
   ]
  },
  {
   "cell_type": "code",
   "execution_count": 53,
   "metadata": {
    "colab": {
     "base_uri": "https://localhost:8080/",
     "height": 545
    },
    "id": "0WTPGmdMp8us",
    "outputId": "836bc05c-52f3-486d-89cd-94922257fde2"
   },
   "outputs": [
    {
     "data": {
      "image/png": "[encoded data removed]",
      "text/plain": [
       "<Figure size 432x288 with 1 Axes>"
      ]
     },
     "execution_count": 53,
     "metadata": {},
     "output_type": "execute_result"
    },
    {
     "data": {
      "image/png": "[encoded data removed]",
      "text/plain": [
       "<Figure size 432x288 with 1 Axes>"
      ]
     },
     "metadata": {
      "needs_background": "light"
     },
     "output_type": "display_data"
    }
   ],
   "source": [
    "plot_acf(df['first_temp_diff'])"
   ]
  },
  {
   "cell_type": "code",
   "execution_count": 54,
   "metadata": {
    "id": "InLkGWNSqLWB"
   },
   "outputs": [],
   "source": [
    "#from graph we can see that q value that is nearer to the boundary is 7"
   ]
  },
  {
   "cell_type": "code",
   "execution_count": 55,
   "metadata": {
    "colab": {
     "base_uri": "https://localhost:8080/",
     "height": 545
    },
    "id": "nW27J6kqqmVP",
    "outputId": "122f661f-dd37-4f18-f8ce-b756c7f8ef59"
   },
   "outputs": [
    {
     "data": {
      "image/png": "[encoded data removed]",
      "text/plain": [
       "<Figure size 432x288 with 1 Axes>"
      ]
     },
     "execution_count": 55,
     "metadata": {},
     "output_type": "execute_result"
    },
    {
     "data": {
      "image/png": "[encoded data removed]",
      "text/plain": [
       "<Figure size 432x288 with 1 Axes>"
      ]
     },
     "metadata": {
      "needs_background": "light"
     },
     "output_type": "display_data"
    }
   ],
   "source": [
    "plot_pacf(df['first_temp_diff'])"
   ]
  },
  {
   "cell_type": "code",
   "execution_count": 56,
   "metadata": {
    "id": "J99L4odMqufZ"
   },
   "outputs": [],
   "source": [
    "#from this graph we can see that p value we can take for ARIMA as q value is 2"
   ]
  },
  {
   "cell_type": "code",
   "execution_count": 58,
   "metadata": {
    "colab": {
     "base_uri": "https://localhost:8080/"
    },
    "id": "3YxGtfMDq5QI",
    "outputId": "720db2f9-4c76-4687-bb71-e8e1be044eae"
   },
   "outputs": [
    {
     "data": {
      "text/plain": [
       "(387, 1)"
      ]
     },
     "execution_count": 58,
     "metadata": {},
     "output_type": "execute_result"
    }
   ],
   "source": [
    "df.shape"
   ]
  },
  {
   "cell_type": "code",
   "execution_count": 60,
   "metadata": {
    "id": "SLrcxJEBq_xD"
   },
   "outputs": [],
   "source": [
    "training_data = df[0:300]\n",
    "test_data = df[300:]"
   ]
  },
  {
   "cell_type": "code",
   "execution_count": 61,
   "metadata": {
    "colab": {
     "base_uri": "https://localhost:8080/"
    },
    "id": "55GzMgbGrN_e",
    "outputId": "0295746c-800f-436a-a39e-8da10e60c2ee"
   },
   "outputs": [
    {
     "name": "stderr",
     "output_type": "stream",
     "text": [
      "C:\\Users\\Windows10sx\\anaconda3\\lib\\site-packages\\statsmodels\\tsa\\base\\tsa_model.py:218: ValueWarning: A date index has been provided, but it has no associated frequency information and so will be ignored when e.g. forecasting.\n",
      "  ' ignored when e.g. forecasting.', ValueWarning)\n",
      "C:\\Users\\Windows10sx\\anaconda3\\lib\\site-packages\\statsmodels\\tsa\\base\\tsa_model.py:222: ValueWarning: A date index has been provided, but it is not monotonic and so will be ignored when e.g. forecasting.\n",
      "  ' forecasting.', ValueWarning)\n",
      "C:\\Users\\Windows10sx\\anaconda3\\lib\\site-packages\\statsmodels\\tsa\\base\\tsa_model.py:218: ValueWarning: A date index has been provided, but it has no associated frequency information and so will be ignored when e.g. forecasting.\n",
      "  ' ignored when e.g. forecasting.', ValueWarning)\n",
      "C:\\Users\\Windows10sx\\anaconda3\\lib\\site-packages\\statsmodels\\tsa\\base\\tsa_model.py:222: ValueWarning: A date index has been provided, but it is not monotonic and so will be ignored when e.g. forecasting.\n",
      "  ' forecasting.', ValueWarning)\n"
     ]
    }
   ],
   "source": [
    "arima = ARIMA(training_data, order=(4,1,2))"
   ]
  },
  {
   "cell_type": "code",
   "execution_count": 62,
   "metadata": {
    "colab": {
     "base_uri": "https://localhost:8080/"
    },
    "id": "2Zgzfu4Bsr1Q",
    "outputId": "147d8c8c-98c3-4e97-916d-6ebb03ef740c"
   },
   "outputs": [],
   "source": [
    "model = arima.fit()"
   ]
  },
  {
   "cell_type": "code",
   "execution_count": 63,
   "metadata": {
    "id": "TLg-TJ3Us3vf"
   },
   "outputs": [],
   "source": [
    "predictions = model.forecast(steps=len(test_data))[0]"
   ]
  },
  {
   "cell_type": "code",
   "execution_count": 64,
   "metadata": {
    "colab": {
     "base_uri": "https://localhost:8080/"
    },
    "id": "txb-SQvstSsi",
    "outputId": "876e6d63-3edd-4668-b05c-0832cc46f609"
   },
   "outputs": [
    {
     "data": {
      "text/plain": [
       "array([-1.14240794, -1.13148244, -1.13559594, -0.64007978, -0.1515142 ,\n",
       "        0.18532643,  0.3782909 ,  0.38363803,  0.25662321,  0.07889171,\n",
       "       -0.08814961, -0.19928723, -0.23832581, -0.21562194, -0.1554479 ,\n",
       "       -0.08572459, -0.0290901 ,  0.00224592,  0.00683677, -0.00873112,\n",
       "       -0.03403346, -0.05891493, -0.07630525, -0.08333188, -0.08091613,\n",
       "       -0.07240299, -0.06189974, -0.05288263, -0.04738971, -0.04585939,\n",
       "       -0.04747225, -0.05075173, -0.05417695, -0.05662928, -0.05759395,\n",
       "       -0.05713059, -0.05568864, -0.05386539, -0.05219258, -0.05100387,\n",
       "       -0.05039752, -0.05027707, -0.05043563, -0.05064716, -0.05073645,\n",
       "       -0.05061431, -0.05027782, -0.04978607, -0.04922516, -0.04867579,\n",
       "       -0.04819182, -0.04779273, -0.04746814, -0.04718944, -0.04692327,\n",
       "       -0.04664247, -0.04633193, -0.04598947, -0.04562263, -0.0452437 ,\n",
       "       -0.04486484, -0.04449463, -0.04413668, -0.04379007, -0.04345089,\n",
       "       -0.04311427, -0.04277602, -0.04243365, -0.04208655, -0.04173567,\n",
       "       -0.04138272, -0.04102954, -0.04067747, -0.04032716, -0.03997855,\n",
       "       -0.03963114, -0.03928421, -0.03893712, -0.03858947, -0.03824112,\n",
       "       -0.03789219, -0.03754292, -0.03719358, -0.03684437, -0.03649541,\n",
       "       -0.03614671, -0.0357982 ])"
      ]
     },
     "execution_count": 64,
     "metadata": {},
     "output_type": "execute_result"
    }
   ],
   "source": [
    "predictions"
   ]
  },
  {
   "cell_type": "code",
   "execution_count": 65,
   "metadata": {
    "id": "fOt7CMPktT0X"
   },
   "outputs": [],
   "source": [
    "rmse1 = np.sqrt(mean_squared_error(test_data, predictions))"
   ]
  },
  {
   "cell_type": "code",
   "execution_count": 66,
   "metadata": {
    "colab": {
     "base_uri": "https://localhost:8080/"
    },
    "id": "rbu01zlltgPE",
    "outputId": "62486547-881b-4a4a-c130-ae0cc0587e4e"
   },
   "outputs": [
    {
     "data": {
      "text/plain": [
       "2.349546845221777"
      ]
     },
     "execution_count": 66,
     "metadata": {},
     "output_type": "execute_result"
    }
   ],
   "source": [
    "rmse1"
   ]
  },
  {
   "cell_type": "code",
   "execution_count": 67,
   "metadata": {
    "id": "S2wrNJAQthOj"
   },
   "outputs": [],
   "source": [
    "# Confidence Interval"
   ]
  },
  {
   "cell_type": "code",
   "execution_count": null,
   "metadata": {
    "id": "-CUS_sbfuNwg"
   },
   "outputs": [],
   "source": []
  },
  {
   "cell_type": "code",
   "execution_count": null,
   "metadata": {
    "id": "hKj9uD770Bsc"
   },
   "outputs": [],
   "source": []
  },
  {
   "cell_type": "code",
   "execution_count": null,
   "metadata": {
    "id": "N3ie0mrZ0itL"
   },
   "outputs": [],
   "source": []
  },
  {
   "cell_type": "code",
   "execution_count": null,
   "metadata": {},
   "outputs": [],
   "source": []
  }
 ],
 "metadata": {
  "colab": {
   "collapsed_sections": [],
   "name": "ARIMA.ipynb",
   "provenance": []
  },
  "kernelspec": {
   "display_name": "Python 3",
   "language": "python",
   "name": "python3"
  },
  "language_info": {
   "codemirror_mode": {
    "name": "ipython",
    "version": 3
   },
   "file_extension": ".py",
   "mimetype": "text/x-python",
   "name": "python",
   "nbconvert_exporter": "python",
   "pygments_lexer": "ipython3",
   "version": "3.7.6"
  }
 },
 "nbformat": 4,
 "nbformat_minor": 1
}
